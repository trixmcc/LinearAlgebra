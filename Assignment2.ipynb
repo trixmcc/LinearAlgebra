{
  "nbformat": 4,
  "nbformat_minor": 0,
  "metadata": {
    "colab": {
      "name": "Assignment2.ipynb",
      "provenance": [],
      "collapsed_sections": [],
      "authorship_tag": "ABX9TyNZ2DkiFggqMNg4uggFIXv3",
      "include_colab_link": true
    },
    "kernelspec": {
      "name": "python3",
      "display_name": "Python 3"
    },
    "language_info": {
      "name": "python"
    }
  },
  "cells": [
    {
      "cell_type": "markdown",
      "metadata": {
        "id": "view-in-github",
        "colab_type": "text"
      },
      "source": [
        "<a href=\"https://colab.research.google.com/github/trixmcc/LinearAlgebra1T-2021-2022/blob/main/Assignment2.ipynb\" target=\"_parent\"><img src=\"https://colab.research.google.com/assets/colab-badge.svg\" alt=\"Open In Colab\"/></a>"
      ]
    },
    {
      "cell_type": "markdown",
      "metadata": {
        "id": "kffF2QLru_z-"
      },
      "source": [
        "# Welcome to Python Fundamentals\n",
        "\n",
        "![image](https://cdn.techinasia.com/wp-content/uploads/2012/01/python-logo.jpg)[1]"
      ]
    },
    {
      "cell_type": "markdown",
      "metadata": {
        "id": "NVtEGpMIP7M7"
      },
      "source": [
        "# I. OBJECTIVE"
      ]
    },
    {
      "cell_type": "markdown",
      "metadata": {
        "id": "7vhDZE251qdW"
      },
      "source": [
        "In this module, we are going to establish our skills in Python Programming. In this notebook, we are going to cover the following:\n",
        "\n",
        "*   Variables and Data Types\n",
        "*   Operations\n",
        "*   Input and Output Operations\n",
        "*   Logic Control\n",
        "*   Iterables\n",
        "*   Functions\n"
      ]
    },
    {
      "cell_type": "markdown",
      "metadata": {
        "id": "_QMpZriNRLak"
      },
      "source": [
        "# II. METHODS"
      ]
    },
    {
      "cell_type": "markdown",
      "metadata": {
        "id": "jJIbQo2rbd39"
      },
      "source": [
        "In this class, students are asked to follow the steps that were taken by the professor to better understand the lessons that had been taught. The students used Google Collaboraty in coding Python syntax."
      ]
    },
    {
      "cell_type": "markdown",
      "metadata": {
        "id": "_QhFSW5jQFpa"
      },
      "source": [
        "# III. RESULTS"
      ]
    },
    {
      "cell_type": "markdown",
      "metadata": {
        "id": "wfOTTUwUio7B"
      },
      "source": [
        "## Variables and Data Types [2]\n",
        "\n",
        "A variable is a placeholder for a value that might be of different types. It can also be assigned a name, which can be defined as an identifier, that will be used to call it out later in the program. However, there are some rules that need to be followed when naming a variable:\n",
        "*   Python variables must begin with an uppercase or lowercase letter(_). Numbers (0-9) shouldn't be placed at the beginning.\n",
        "*   The rest of the identifier may contain letters, underscores, and numbers. Other symbols are unacceptable.\n",
        "*   Python is case-sensitive. Naming a variable with a lowercase letter isn't the same as with an uppercase letter, even if they have the same spelling. \n",
        "\n",
        "In Python, there is no need to declare the data type of a value in a variable. You only need to type the identifier and the value respectively with an equal sign (=) in between. However, there are also rules in calling out a variable.\n",
        "*   Variables must have assigned values first before being called.\n",
        "*   Identifiers must be on the left side of the assignment and the value on the right.\n",
        "*   Keywords can not be identifiers.\n",
        "*   It is possible to assign values to multiple variables in one statement.\n",
        "*   It is possible to assign the same value to different variables.\n",
        "\n",
        "Even if we don't need to declare the data type of a variable, its value still has a type. We can find it by using type() function.\n",
        "*   Int - This data type holds integer with a certain limit of length.\n",
        "*   Float - This data Type holds floating-point real values.\n",
        "*   Long - This data type holds a long integer of unlimited length.\n",
        "*   String - This data type holds a sequence of characters."
      ]
    },
    {
      "cell_type": "code",
      "metadata": {
        "id": "eucarKlD1MWt"
      },
      "source": [
        "x = 1\n",
        "a, b = 3, -2"
      ],
      "execution_count": 1,
      "outputs": []
    },
    {
      "cell_type": "code",
      "metadata": {
        "id": "8ocas4r43zcb",
        "colab": {
          "base_uri": "https://localhost:8080/",
          "height": 0
        },
        "outputId": "c4e0824d-88c0-4c41-b37b-bea31bf0fe36"
      },
      "source": [
        "type(x)"
      ],
      "execution_count": 2,
      "outputs": [
        {
          "output_type": "execute_result",
          "data": {
            "text/plain": [
              "int"
            ]
          },
          "metadata": {},
          "execution_count": 2
        }
      ]
    },
    {
      "cell_type": "code",
      "metadata": {
        "id": "VjknNzs-35Yj",
        "colab": {
          "base_uri": "https://localhost:8080/",
          "height": 0
        },
        "outputId": "36520013-3097-4df7-cce8-8dc3b40aa97d"
      },
      "source": [
        "y = 3.0\n",
        "type(y)"
      ],
      "execution_count": 3,
      "outputs": [
        {
          "output_type": "execute_result",
          "data": {
            "text/plain": [
              "float"
            ]
          },
          "metadata": {},
          "execution_count": 3
        }
      ]
    },
    {
      "cell_type": "code",
      "metadata": {
        "id": "RXT2EyPh4CCV",
        "colab": {
          "base_uri": "https://localhost:8080/",
          "height": 0
        },
        "outputId": "606fc10d-ed5a-4ea4-d9d3-7c6ef8efc93c"
      },
      "source": [
        "x = float(x)\n",
        "type(x)"
      ],
      "execution_count": 4,
      "outputs": [
        {
          "output_type": "execute_result",
          "data": {
            "text/plain": [
              "float"
            ]
          },
          "metadata": {},
          "execution_count": 4
        }
      ]
    },
    {
      "cell_type": "code",
      "metadata": {
        "id": "-MY28i9c4UB7",
        "colab": {
          "base_uri": "https://localhost:8080/",
          "height": 0
        },
        "outputId": "3c5049cd-c0b8-44ed-f18a-e5f339be6543"
      },
      "source": [
        "s, t, u = \"i\", '3', 'three'\n",
        "type(u)"
      ],
      "execution_count": 5,
      "outputs": [
        {
          "output_type": "execute_result",
          "data": {
            "text/plain": [
              "str"
            ]
          },
          "metadata": {},
          "execution_count": 5
        }
      ]
    },
    {
      "cell_type": "markdown",
      "metadata": {
        "id": "qSEbSVhn4zEt"
      },
      "source": [
        "## Operations [3]\n",
        "\n",
        "The elements that can manipulate the value of operands are known as operators.\n",
        "*   Addition - Values are added on both sides of the operator.\n",
        "*   Subtraction - Takes the right hand operand and subtracts it from the left hand operand.\n",
        "*   Multiplication - Values on both sides of the operator are multiplied.\n",
        "*   Division - Right-hand operand is divided by left-hand operand.\n",
        "*   Floor Division - Removes the fractional part of a normal division result.\n",
        "*   Exponent - Calculates exponential (power) values for operators.\n",
        "*   Modulo - Returns the remainder after dividing the left hand operand by the right hand operand."
      ]
    },
    {
      "cell_type": "code",
      "metadata": {
        "id": "MsFg5DZD46aV"
      },
      "source": [
        "w, x, y, z = 4.0, -3.0, 1, -32"
      ],
      "execution_count": 6,
      "outputs": []
    },
    {
      "cell_type": "code",
      "metadata": {
        "id": "yC4ctaKt5bgn",
        "colab": {
          "base_uri": "https://localhost:8080/",
          "height": 0
        },
        "outputId": "29ca1c4c-c75a-4515-e51e-9da4bdee3a9a"
      },
      "source": [
        "### Addition\n",
        "S = w + x\n",
        "S"
      ],
      "execution_count": 7,
      "outputs": [
        {
          "output_type": "execute_result",
          "data": {
            "text/plain": [
              "1.0"
            ]
          },
          "metadata": {},
          "execution_count": 7
        }
      ]
    },
    {
      "cell_type": "code",
      "metadata": {
        "id": "3pXzn1e450m6",
        "colab": {
          "base_uri": "https://localhost:8080/",
          "height": 0
        },
        "outputId": "9784445c-b95c-4826-ba8a-c2aee83de211"
      },
      "source": [
        "### Subtraction\n",
        "D = y - z\n",
        "D"
      ],
      "execution_count": 8,
      "outputs": [
        {
          "output_type": "execute_result",
          "data": {
            "text/plain": [
              "33"
            ]
          },
          "metadata": {},
          "execution_count": 8
        }
      ]
    },
    {
      "cell_type": "code",
      "metadata": {
        "id": "ErHTnWmI6OWx",
        "colab": {
          "base_uri": "https://localhost:8080/",
          "height": 0
        },
        "outputId": "9c1cf78b-7bfb-4299-ac81-ce262d7cd474"
      },
      "source": [
        "### Division\n",
        "Q = y/x\n",
        "Q"
      ],
      "execution_count": 9,
      "outputs": [
        {
          "output_type": "execute_result",
          "data": {
            "text/plain": [
              "-0.3333333333333333"
            ]
          },
          "metadata": {},
          "execution_count": 9
        }
      ]
    },
    {
      "cell_type": "code",
      "metadata": {
        "id": "ep2apk6p6ZoV",
        "colab": {
          "base_uri": "https://localhost:8080/",
          "height": 0
        },
        "outputId": "e6ba756a-b173-4b13-e076-cee24cd5cb0c"
      },
      "source": [
        "### Floor Division\n",
        "Qf = w//x\n",
        "Qf"
      ],
      "execution_count": 10,
      "outputs": [
        {
          "output_type": "execute_result",
          "data": {
            "text/plain": [
              "-2.0"
            ]
          },
          "metadata": {},
          "execution_count": 10
        }
      ]
    },
    {
      "cell_type": "code",
      "metadata": {
        "id": "B5oBVono7Hxm",
        "colab": {
          "base_uri": "https://localhost:8080/",
          "height": 0
        },
        "outputId": "4dab345a-1c08-4825-a83b-8ae27a324d07"
      },
      "source": [
        "### Exponent\n",
        "E = w**w\n",
        "E"
      ],
      "execution_count": 11,
      "outputs": [
        {
          "output_type": "execute_result",
          "data": {
            "text/plain": [
              "256.0"
            ]
          },
          "metadata": {},
          "execution_count": 11
        }
      ]
    },
    {
      "cell_type": "code",
      "metadata": {
        "id": "PQcN-iRO7laf",
        "colab": {
          "base_uri": "https://localhost:8080/",
          "height": 0
        },
        "outputId": "d01bf7a5-d2ff-42e4-ded8-3a520fdba455"
      },
      "source": [
        "### Modulo\n",
        "mod = z%x\n",
        "mod"
      ],
      "execution_count": 12,
      "outputs": [
        {
          "output_type": "execute_result",
          "data": {
            "text/plain": [
              "-2.0"
            ]
          },
          "metadata": {},
          "execution_count": 12
        }
      ]
    },
    {
      "cell_type": "markdown",
      "metadata": {
        "id": "qr1FVZlg77VW"
      },
      "source": [
        "### Assignment [3]\n",
        "\n",
        "Assignment operators assign values to variables.\n",
        "*   (=) Values from the right side operands are assigned to the left side operand.\n",
        "*   (+=) It adds the right and left operands together and assigns the result to the left operand.\n",
        "*   (-=) It takes the right operand and subtracts it from the left operand, then assigns the result to the left operand.\n",
        "*   (*=) The right operand is multiplied by the left operand, and the result is assigned to the left operand.\n",
        "*   (/=) It divides the left and right operands and assigns the result to the left operand.\n",
        "*   (%=) It uses two operands to calculate modulus and assigns the result to the left operand.\n",
        "*   (**=) Calculates exponential (power) operators and assigns a value to the left operand."
      ]
    },
    {
      "cell_type": "code",
      "metadata": {
        "id": "Hoy1sYOF79Ma"
      },
      "source": [
        "A, B, C, D = 0, 100, 2, 1"
      ],
      "execution_count": 13,
      "outputs": []
    },
    {
      "cell_type": "code",
      "metadata": {
        "id": "ofusqpsx8BVK",
        "colab": {
          "base_uri": "https://localhost:8080/",
          "height": 0
        },
        "outputId": "9ef297d3-ffa8-44b9-f47c-dbac995cca22"
      },
      "source": [
        "A += w\n",
        "A"
      ],
      "execution_count": 14,
      "outputs": [
        {
          "output_type": "execute_result",
          "data": {
            "text/plain": [
              "4.0"
            ]
          },
          "metadata": {},
          "execution_count": 14
        }
      ]
    },
    {
      "cell_type": "code",
      "metadata": {
        "id": "XNJR6AFO8UZ_",
        "colab": {
          "base_uri": "https://localhost:8080/",
          "height": 0
        },
        "outputId": "8c0570ea-a6b0-4378-bd78-97409c54dc12"
      },
      "source": [
        "B -= x\n",
        "B"
      ],
      "execution_count": 15,
      "outputs": [
        {
          "output_type": "execute_result",
          "data": {
            "text/plain": [
              "103.0"
            ]
          },
          "metadata": {},
          "execution_count": 15
        }
      ]
    },
    {
      "cell_type": "code",
      "metadata": {
        "id": "ryVqLfXU8iIz",
        "colab": {
          "base_uri": "https://localhost:8080/",
          "height": 0
        },
        "outputId": "7a2c4567-3ecf-4790-9d36-9c3dde6f99a9"
      },
      "source": [
        "C *= w\n",
        "C"
      ],
      "execution_count": 16,
      "outputs": [
        {
          "output_type": "execute_result",
          "data": {
            "text/plain": [
              "8.0"
            ]
          },
          "metadata": {},
          "execution_count": 16
        }
      ]
    },
    {
      "cell_type": "code",
      "metadata": {
        "id": "iTQVVjqg9ZLG",
        "colab": {
          "base_uri": "https://localhost:8080/",
          "height": 0
        },
        "outputId": "ef0de3fe-e697-49a0-d776-279d02b03c55"
      },
      "source": [
        "D /= x\n",
        "D"
      ],
      "execution_count": 17,
      "outputs": [
        {
          "output_type": "execute_result",
          "data": {
            "text/plain": [
              "-0.3333333333333333"
            ]
          },
          "metadata": {},
          "execution_count": 17
        }
      ]
    },
    {
      "cell_type": "code",
      "metadata": {
        "id": "DZl2uF8V9l9l",
        "colab": {
          "base_uri": "https://localhost:8080/",
          "height": 0
        },
        "outputId": "7da3a6a4-3e52-44bf-c3d8-153957f7a03c"
      },
      "source": [
        "C **= w\n",
        "C"
      ],
      "execution_count": 18,
      "outputs": [
        {
          "output_type": "execute_result",
          "data": {
            "text/plain": [
              "4096.0"
            ]
          },
          "metadata": {},
          "execution_count": 18
        }
      ]
    },
    {
      "cell_type": "code",
      "metadata": {
        "id": "w3Yk5yDu-MnQ",
        "colab": {
          "base_uri": "https://localhost:8080/",
          "height": 0
        },
        "outputId": "c3ac1f4c-bd19-4513-d4d8-45a639a07f70"
      },
      "source": [
        "E **= y\n",
        "E"
      ],
      "execution_count": 19,
      "outputs": [
        {
          "output_type": "execute_result",
          "data": {
            "text/plain": [
              "256.0"
            ]
          },
          "metadata": {},
          "execution_count": 19
        }
      ]
    },
    {
      "cell_type": "markdown",
      "metadata": {
        "id": "x75AO8dj-YxZ"
      },
      "source": [
        "### Comparators [3]\n",
        "\n",
        "Relational Operators compare the values on both sides and determine their relationship.\n",
        "*   (==) The condition becomes true if the values of two operands are equal.\n",
        "*   (!=) When the values of two operands differ, the condition is true.\n",
        "*   (<) The condition is true if the left operand's value is greater than the right operand's value.\n",
        "*   (>) The condition is true if the left operand's value is less than the right operand's value.\n",
        "*   (>=) The condition is true if the value of the left operand is larger than or equal to the value of the right operand.\n",
        "*   (<=) The condition is true if the value of the left operand is less than or equal to the value of the right operand."
      ]
    },
    {
      "cell_type": "code",
      "metadata": {
        "id": "bfaGqgCe-cJV"
      },
      "source": [
        "size_1, size_2, size_3 = 1, 2.0, \"1\"\n",
        "true_size = 1.0"
      ],
      "execution_count": 20,
      "outputs": []
    },
    {
      "cell_type": "code",
      "metadata": {
        "colab": {
          "base_uri": "https://localhost:8080/",
          "height": 0
        },
        "id": "gTacVex--m3h",
        "outputId": "5a34d409-2cdc-458e-db32-da39adaf7d8f"
      },
      "source": [
        "## Equality\n",
        "size_1 == true_size"
      ],
      "execution_count": 21,
      "outputs": [
        {
          "output_type": "execute_result",
          "data": {
            "text/plain": [
              "True"
            ]
          },
          "metadata": {},
          "execution_count": 21
        }
      ]
    },
    {
      "cell_type": "code",
      "metadata": {
        "colab": {
          "base_uri": "https://localhost:8080/",
          "height": 0
        },
        "id": "0K0ZkrrA-5xA",
        "outputId": "ba031d96-9ea8-4bba-c708-8f5b23cd1d44"
      },
      "source": [
        "## Non-Equality\n",
        "size_2 != true_size"
      ],
      "execution_count": 22,
      "outputs": [
        {
          "output_type": "execute_result",
          "data": {
            "text/plain": [
              "True"
            ]
          },
          "metadata": {},
          "execution_count": 22
        }
      ]
    },
    {
      "cell_type": "code",
      "metadata": {
        "colab": {
          "base_uri": "https://localhost:8080/",
          "height": 0
        },
        "id": "eTvB7So1_Fis",
        "outputId": "7320592e-41df-4688-cb7d-62a856d796e2"
      },
      "source": [
        "## Inequality\n",
        "s1 = size_1 > size_2\n",
        "s2 = size_1 < size_2>2\n",
        "s3 = true_size >= size_1\n",
        "s4 = size_2 <= true_size\n",
        "s4"
      ],
      "execution_count": 23,
      "outputs": [
        {
          "output_type": "execute_result",
          "data": {
            "text/plain": [
              "False"
            ]
          },
          "metadata": {},
          "execution_count": 23
        }
      ]
    },
    {
      "cell_type": "markdown",
      "metadata": {
        "id": "14ev_3r1_99W"
      },
      "source": [
        "### Logical [3]\n",
        "\n",
        "An operator that joins two or more statements, one of which can be true or false.\n",
        "*   And - The condition is true if both operands are true.\n",
        "*   Or - The condition is true if any of the two operands is true.\n",
        "*   Not - It is used to revert the operand's logical state."
      ]
    },
    {
      "cell_type": "code",
      "metadata": {
        "colab": {
          "base_uri": "https://localhost:8080/",
          "height": 0
        },
        "id": "C0WOozZHAAeG",
        "outputId": "7013f5c2-4f4d-42af-c309-db56de4cefa7"
      },
      "source": [
        "size_1 == true_size"
      ],
      "execution_count": 24,
      "outputs": [
        {
          "output_type": "execute_result",
          "data": {
            "text/plain": [
              "True"
            ]
          },
          "metadata": {},
          "execution_count": 24
        }
      ]
    },
    {
      "cell_type": "code",
      "metadata": {
        "colab": {
          "base_uri": "https://localhost:8080/",
          "height": 0
        },
        "id": "AjZHnKiqALUL",
        "outputId": "c49d1422-ba35-43c8-84f5-2a1ed827f91a"
      },
      "source": [
        "size_1 is true_size"
      ],
      "execution_count": 25,
      "outputs": [
        {
          "output_type": "execute_result",
          "data": {
            "text/plain": [
              "False"
            ]
          },
          "metadata": {},
          "execution_count": 25
        }
      ]
    },
    {
      "cell_type": "code",
      "metadata": {
        "colab": {
          "base_uri": "https://localhost:8080/",
          "height": 0
        },
        "id": "TfGS7pQ9Afwe",
        "outputId": "4dd3bc8e-d9e7-40c1-881e-d4cd900145e5"
      },
      "source": [
        "size_1 is not true_size"
      ],
      "execution_count": 26,
      "outputs": [
        {
          "output_type": "execute_result",
          "data": {
            "text/plain": [
              "True"
            ]
          },
          "metadata": {},
          "execution_count": 26
        }
      ]
    },
    {
      "cell_type": "code",
      "metadata": {
        "colab": {
          "base_uri": "https://localhost:8080/",
          "height": 0
        },
        "id": "wGQRbX6lApmN",
        "outputId": "fbd8fba0-6923-4193-c6f8-64ebe43789f3"
      },
      "source": [
        "P, Q = True, False\n",
        "conj = P and Q\n",
        "conj"
      ],
      "execution_count": 27,
      "outputs": [
        {
          "output_type": "execute_result",
          "data": {
            "text/plain": [
              "False"
            ]
          },
          "metadata": {},
          "execution_count": 27
        }
      ]
    },
    {
      "cell_type": "code",
      "metadata": {
        "colab": {
          "base_uri": "https://localhost:8080/",
          "height": 0
        },
        "id": "aFu7qaIpBBDr",
        "outputId": "b6d7abbe-cd62-4d54-c1b8-93bae1f67368"
      },
      "source": [
        "disj = P or Q\n",
        "disj"
      ],
      "execution_count": 28,
      "outputs": [
        {
          "output_type": "execute_result",
          "data": {
            "text/plain": [
              "True"
            ]
          },
          "metadata": {},
          "execution_count": 28
        }
      ]
    },
    {
      "cell_type": "code",
      "metadata": {
        "colab": {
          "base_uri": "https://localhost:8080/",
          "height": 0
        },
        "id": "Fa9mfOcyBawg",
        "outputId": "6a6369c3-9f6d-44b9-bda6-e83f005486ac"
      },
      "source": [
        "nand = not(P and Q)\n",
        "nand"
      ],
      "execution_count": 29,
      "outputs": [
        {
          "output_type": "execute_result",
          "data": {
            "text/plain": [
              "True"
            ]
          },
          "metadata": {},
          "execution_count": 29
        }
      ]
    },
    {
      "cell_type": "code",
      "metadata": {
        "colab": {
          "base_uri": "https://localhost:8080/",
          "height": 0
        },
        "id": "OOwz_I5UBfTR",
        "outputId": "d5c3128d-ce90-4701-bbac-26753ac10309"
      },
      "source": [
        "xor = (not P and Q) or (P and not Q)\n",
        "xor"
      ],
      "execution_count": 30,
      "outputs": [
        {
          "output_type": "execute_result",
          "data": {
            "text/plain": [
              "True"
            ]
          },
          "metadata": {},
          "execution_count": 30
        }
      ]
    },
    {
      "cell_type": "markdown",
      "metadata": {
        "id": "MyjsaYXEB03b"
      },
      "source": [
        "## Input and Output [4]\n",
        "\n",
        "input() causes the program to pause so that the user can type a line of text from the keyboard. All characters input are read and returned whenever the user presses the Enter key.\n",
        "\n",
        "By default, print() separates each object by a single space and finishes the output with a newline. print() can accept any type of object as a specified argument."
      ]
    },
    {
      "cell_type": "code",
      "metadata": {
        "colab": {
          "base_uri": "https://localhost:8080/",
          "height": 0
        },
        "id": "3AwmxfGDB6hl",
        "outputId": "f9cbbb37-5ccc-4d8d-bd8e-9cfe4af10179"
      },
      "source": [
        "print(\"Hello world!\")"
      ],
      "execution_count": 31,
      "outputs": [
        {
          "output_type": "stream",
          "name": "stdout",
          "text": [
            "Hello world!\n"
          ]
        }
      ]
    },
    {
      "cell_type": "code",
      "metadata": {
        "id": "n5fUrIsDCHsq"
      },
      "source": [
        "cnt = 14000"
      ],
      "execution_count": 32,
      "outputs": []
    },
    {
      "cell_type": "code",
      "metadata": {
        "colab": {
          "base_uri": "https://localhost:8080/",
          "height": 0
        },
        "id": "CB77cWtiCNOf",
        "outputId": "54306e62-5794-4e02-8221-ad6fb2e09754"
      },
      "source": [
        "string = \"Hello World!\"\n",
        "print(string, \", Current COVID count is: \", cnt)\n",
        "cnt += 10000"
      ],
      "execution_count": 33,
      "outputs": [
        {
          "output_type": "stream",
          "name": "stdout",
          "text": [
            "Hello World! , Current COVID count is:  14000\n"
          ]
        }
      ]
    },
    {
      "cell_type": "code",
      "metadata": {
        "colab": {
          "base_uri": "https://localhost:8080/",
          "height": 0
        },
        "id": "uoP9F_3iC-pa",
        "outputId": "01179564-d8dd-49a4-e61c-dd36780cfd21"
      },
      "source": [
        "print(f\"{string}, current count is: {cnt}\")"
      ],
      "execution_count": 34,
      "outputs": [
        {
          "output_type": "stream",
          "name": "stdout",
          "text": [
            "Hello World!, current count is: 24000\n"
          ]
        }
      ]
    },
    {
      "cell_type": "code",
      "metadata": {
        "colab": {
          "base_uri": "https://localhost:8080/",
          "height": 0
        },
        "id": "LUqbupF3D18a",
        "outputId": "79cf5e11-2f32-4785-a5a8-4b5fadd2d752"
      },
      "source": [
        "sem_grade = 86.25\n",
        "name = \"\"\n",
        "print(\"Hello {}, your semestral grade us: {}\".format(name, sem_grade))"
      ],
      "execution_count": 35,
      "outputs": [
        {
          "output_type": "stream",
          "name": "stdout",
          "text": [
            "Hello , your semestral grade us: 86.25\n"
          ]
        }
      ]
    },
    {
      "cell_type": "code",
      "metadata": {
        "colab": {
          "base_uri": "https://localhost:8080/",
          "height": 0
        },
        "id": "_hr3AaZPDTPR",
        "outputId": "01e33990-3185-4ef9-9a7b-afde06bf1531"
      },
      "source": [
        "pg, mg, fg = 0.3, 0.3, 0.4\n",
        "print(\"The weights of your semestral grade are: \\\n",
        "\\n\\t {:.2%} for Prelims \\\n",
        "\\n\\t {:.2%} for Midterms, and \\\n",
        "\\n\\t {:.2%} for Finals.\".format(pg, mg, fg))"
      ],
      "execution_count": 36,
      "outputs": [
        {
          "output_type": "stream",
          "name": "stdout",
          "text": [
            "The weights of your semestral grade are: \n",
            "\t 30.00% for Prelims \n",
            "\t 30.00% for Midterms, and \n",
            "\t 40.00% for Finals.\n"
          ]
        }
      ]
    },
    {
      "cell_type": "code",
      "metadata": {
        "id": "bmanhe_cFka3",
        "colab": {
          "base_uri": "https://localhost:8080/",
          "height": 52
        },
        "outputId": "76208c22-0cc2-4ae6-9d37-b2fc02b87ff5"
      },
      "source": [
        "e = input(\"enter a number: \")\n",
        "e"
      ],
      "execution_count": 37,
      "outputs": [
        {
          "name": "stdout",
          "output_type": "stream",
          "text": [
            "enter a number: 18\n"
          ]
        },
        {
          "output_type": "execute_result",
          "data": {
            "application/vnd.google.colaboratory.intrinsic+json": {
              "type": "string"
            },
            "text/plain": [
              "'18'"
            ]
          },
          "metadata": {},
          "execution_count": 37
        }
      ]
    },
    {
      "cell_type": "code",
      "metadata": {
        "colab": {
          "base_uri": "https://localhost:8080/",
          "height": 0
        },
        "id": "1qPyVS9mF5Ma",
        "outputId": "565dfe7f-3186-4d0b-b782-7012e55072d7"
      },
      "source": [
        "name = input(\"Enter your name: \")\n",
        "pg = input(\"Enter prelim grade: \")\n",
        "mg = input(\"Enter midterm grade: \")\n",
        "fg = input(\"Enter final grade: \")\n",
        "sem_grade = None\n",
        "print(\"Hello {}, your semestral grade is {}\".format(name, sem_grade))"
      ],
      "execution_count": 38,
      "outputs": [
        {
          "output_type": "stream",
          "name": "stdout",
          "text": [
            "Enter your name: Trix\n",
            "Enter prelim grade: 88\n",
            "Enter midterm grade: 87\n",
            "Enter final grade: 89\n",
            "Hello Trix, your semestral grade is None\n"
          ]
        }
      ]
    },
    {
      "cell_type": "markdown",
      "metadata": {
        "id": "o_yCUEiuLRm3"
      },
      "source": [
        "## Looping Statements [5]\n",
        "\n",
        "Statements are executed in sequence: the first statement in a function is executed first, then the second, and so on. There may be some cases when a block of code is needed to be executed in numerous times.\n",
        "\n",
        "With various control structed, programming languages are allowed to make more complicated execution paths.\n",
        "\n",
        "A loop statement allows us to repeat the execution of a statement or a series of statements."
      ]
    },
    {
      "cell_type": "markdown",
      "metadata": {
        "id": "ezBHFWerLXVa"
      },
      "source": [
        "### While [6]\n",
        "\n",
        "The \"while\" loop is used to repeatedly execute a block of code until a condition is met. When the condition in the program becomes false, the loop will end and the statement after it is  immediately executed."
      ]
    },
    {
      "cell_type": "code",
      "metadata": {
        "colab": {
          "base_uri": "https://localhost:8080/",
          "height": 0
        },
        "id": "F1biilR2La5d",
        "outputId": "ef776033-9703-4288-9ce5-cc3a5ec5c57b"
      },
      "source": [
        "## While loop\n",
        "i, j = 0, 10\n",
        "while(i<=j):\n",
        "  print(f\"{i}\\t|\\t{j}\")\n",
        "  i += 1"
      ],
      "execution_count": 39,
      "outputs": [
        {
          "output_type": "stream",
          "name": "stdout",
          "text": [
            "0\t|\t10\n",
            "1\t|\t10\n",
            "2\t|\t10\n",
            "3\t|\t10\n",
            "4\t|\t10\n",
            "5\t|\t10\n",
            "6\t|\t10\n",
            "7\t|\t10\n",
            "8\t|\t10\n",
            "9\t|\t10\n",
            "10\t|\t10\n"
          ]
        }
      ]
    },
    {
      "cell_type": "markdown",
      "metadata": {
        "id": "Kk9ybyAEMQc5"
      },
      "source": [
        "### For [7]\n",
        "\n",
        "When you have a block of code that you want to repeat a certain number of times, you use a for loop. The \"for\" statement iterates through the members of a sequence, executing the block of code each time. Compared to the \"while\" loop, the \"for\" loop is used when a condition needs to be verified each iteration or when a piece of code needs to be repeated indefinitely."
      ]
    },
    {
      "cell_type": "code",
      "metadata": {
        "colab": {
          "base_uri": "https://localhost:8080/",
          "height": 0
        },
        "id": "E-5J6mqQMSV4",
        "outputId": "5e7d1f68-cfd1-4639-8a55-7d6d3a5abd04"
      },
      "source": [
        "# for(int = 8; i<10; i++){\n",
        "#print(f{i})\n",
        "# }\n",
        "\n",
        "i = 8\n",
        "for i in range(11):\n",
        "  print(1)"
      ],
      "execution_count": 40,
      "outputs": [
        {
          "output_type": "stream",
          "name": "stdout",
          "text": [
            "1\n",
            "1\n",
            "1\n",
            "1\n",
            "1\n",
            "1\n",
            "1\n",
            "1\n",
            "1\n",
            "1\n",
            "1\n"
          ]
        }
      ]
    },
    {
      "cell_type": "code",
      "metadata": {
        "colab": {
          "base_uri": "https://localhost:8080/",
          "height": 0
        },
        "id": "Sjn1GQ_dM3lp",
        "outputId": "3e7bce0e-eb03-4ffa-d2e1-7dbd7fcf0ee7"
      },
      "source": [
        "playlist = [\"Bahay Kubo\", \"Magandang Kanta\", \"Buko\"]\n",
        "print(\"Now Playing: \\n\")\n",
        "for song in playlist:\n",
        "  print(song)"
      ],
      "execution_count": 41,
      "outputs": [
        {
          "output_type": "stream",
          "name": "stdout",
          "text": [
            "Now Playing: \n",
            "\n",
            "Bahay Kubo\n",
            "Magandang Kanta\n",
            "Buko\n"
          ]
        }
      ]
    },
    {
      "cell_type": "markdown",
      "metadata": {
        "id": "0-UM-ZbjNYIo"
      },
      "source": [
        "## Flow Control [8]\n",
        "\n",
        "The sequence in which statements or blocks of code are executed at runtime based on a condition is known as flow control."
      ]
    },
    {
      "cell_type": "markdown",
      "metadata": {
        "id": "eaON76yJOMey"
      },
      "source": [
        "### Condition Statements [8]\n",
        "\n",
        "*   If - It assesses a condition as True or False. If the condition is True, the True block of code is run; if it is False, the block of code is skipped, and the next line of statement will be executed.\n",
        "*   If Else - If the condition is True, the block of code under the \"if\" statement is executed; if the condition is False, the block of code under the \"else\" block of code is executed.\n",
        "*   Chain Multiple - The if-elif-else condition uses \"if\", \"elif\" and \"else\" statements for checking multiple conditions. When the \"if\" statement is True, the block of code under it is executed; if it is False, the program will read the \"elif\" statement. When the \"elif\" statement is True, the block of code under it is executed; if it is False, the program will execute the block of code under \"else\" statement.\n"
      ]
    },
    {
      "cell_type": "code",
      "metadata": {
        "colab": {
          "base_uri": "https://localhost:8080/",
          "height": 0
        },
        "id": "OVToOPmsNgci",
        "outputId": "deaa6ad8-aca3-402f-92ae-3dc8dd4bced0"
      },
      "source": [
        "num_1, num_2 = 12, 13\n",
        "if(num_1==num_2):\n",
        "  print(\"HAHA\")\n",
        "elif(num_1>num_2):\n",
        "  print(\"HOHO\")\n",
        "else:\n",
        "  print(\"HUHU\")"
      ],
      "execution_count": 42,
      "outputs": [
        {
          "output_type": "stream",
          "name": "stdout",
          "text": [
            "HUHU\n"
          ]
        }
      ]
    },
    {
      "cell_type": "markdown",
      "metadata": {
        "id": "oKkSeR3WOBnM"
      },
      "source": [
        "## Functions [9]\n",
        "\n",
        "A function is a reusable block of code that performs a single, related task. Functions provide your program more modularity and allow you to reuse a lot of the code.\n",
        "*   The keyword def is followed by the function name and parentheses (()) in a function block. These parenthesis should include any input parameters or arguments.\n",
        "*   The function's code block is intended and begins with a colon (:)\n",
        "*   The return [expression] statement ends a function and optionally passes an expression to the caller. Return None is the same as a return statement with no arguments.\n",
        "\n"
      ]
    },
    {
      "cell_type": "code",
      "metadata": {
        "id": "pbtWuWvPOD16"
      },
      "source": [
        "#void DeleteUser (int userid){\n",
        "#    delete(userid)\n",
        "#}\n",
        "\n",
        "def delete_user (userid):\n",
        "  print(\"Successfully deleted user: {}\".format(userid))"
      ],
      "execution_count": 43,
      "outputs": []
    },
    {
      "cell_type": "code",
      "metadata": {
        "colab": {
          "base_uri": "https://localhost:8080/",
          "height": 0
        },
        "id": "AOD1ZnhiNWr6",
        "outputId": "cb8b79fe-0d36-4dfc-e519-6bfcc4223f4a"
      },
      "source": [
        "userid = 2020_100100\n",
        "delete_user(2020_100100)"
      ],
      "execution_count": 44,
      "outputs": [
        {
          "output_type": "stream",
          "name": "stdout",
          "text": [
            "Successfully deleted user: 2020100100\n"
          ]
        }
      ]
    },
    {
      "cell_type": "code",
      "metadata": {
        "id": "mY5ZaBN4PN5S"
      },
      "source": [
        "def add(addend1, addend2):\n",
        "  sum = addend1 + addend2\n",
        "  return sum"
      ],
      "execution_count": 45,
      "outputs": []
    },
    {
      "cell_type": "code",
      "metadata": {
        "colab": {
          "base_uri": "https://localhost:8080/",
          "height": 0
        },
        "id": "0Whbbm7kPzkZ",
        "outputId": "c6f2132d-b873-4a89-965b-544540a3186e"
      },
      "source": [
        "add(5, 4)"
      ],
      "execution_count": 46,
      "outputs": [
        {
          "output_type": "execute_result",
          "data": {
            "text/plain": [
              "9"
            ]
          },
          "metadata": {},
          "execution_count": 46
        }
      ]
    },
    {
      "cell_type": "markdown",
      "metadata": {
        "id": "0kzvc7ixQS4S"
      },
      "source": [
        "# IV. CONCLUSION\n",
        "\n",
        "Upon performing this laboratory activity, I realized that Python language is a lot simpler than Java language. Both programming languages use the same elements such as the variables and data types, operations, looping and control flow statements. However, they are performed quite differently. Here are some differences I noticed:\n",
        "*   Python doesn't require specific lines of codes to be typed before you can start, but Java needs package and main method statement before the codes can run.\n",
        "*   Python doesn't need a semicolon at the end of each statement, while Java does and the codes got messed up when one is missing. Additionally, Python mostly doesn't use braces {} in its block of codes, while Java requires it most of the time and missing one brace can break the whole program.\n",
        "*   When calling out a variable, Python only needs to assign a value to an identifier. In Java, the variable needs to be declared with a data type; and a wrong data type of a value will cause an error.\n",
        "*   Python does not need to import classes to run a code or function, while Java needs to do so in order for the program to run, such as Scanner for user input.\n",
        "\n",
        "Python is easier to understand as it is closer to human language than Java as it has simplified syntax.\n",
        "\n",
        "\n"
      ]
    },
    {
      "cell_type": "markdown",
      "metadata": {
        "id": "lW0vhM0VsD4Z"
      },
      "source": [
        "### References:\n",
        "\n",
        "[1] Techinasia.com, 2021. https://cdn.techinasia.com/wp-content/uploads/2012/01/python-logo.jpg\n",
        "\n",
        "[2] “Python Variables and Data Types - A complete guide for beginners - DataFlair,” DataFlair, Dec. 19, 2017. https://data-flair.training/blogs/python-variables-and-data-types/\n",
        "\n",
        "[3] “Python - Basic Operators,” Tutorialspoint.com, 2021. https://www.tutorialspoint.com/python/python_basic_operators.htm\n",
        "\n",
        "[4] Real Python, “Basic Input, Output, and String Formatting in Python,” Realpython.com, Jun. 24, 2019. https://realpython.com/python-input-output/\n",
        "\n",
        "[5] “Python - Loops,” Tutorialspoint.com, 2021. https://www.tutorialspoint.com/python/python_loops.htm\n",
        "\n",
        "[6] “loops in python - GeeksforGeeks,” GeeksforGeeks, Jun. 07, 2017. https://www.geeksforgeeks.org/loops-in-python/\n",
        "\n",
        "[7] “ForLoop - Python Wiki,” Python.org, 2019. https://wiki.python.org/moin/ForLoop\n",
        "\n",
        "[8] “Python Control Flow Statements and Loops,” PYnative, Mar. 03, 2021. https://pynative.com/python-control-flow-statements/\n",
        "\n",
        "[9] “Python - Functions,” Tutorialspoint.com, 2021. https://www.tutorialspoint.com/python/python_functions.htm\n",
        "‌\n",
        "‌\n",
        "‌\n",
        "‌\n",
        "\n"
      ]
    }
  ]
}